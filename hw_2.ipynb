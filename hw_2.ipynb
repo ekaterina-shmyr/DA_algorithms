{
 "cells": [
  {
   "cell_type": "markdown",
   "metadata": {},
   "source": [
    "1. Сгенерировать датасет при помощи sklearn.datasets.make_regression и обучить линейную модель при помощи градиентного и стохастического градиентного спуска. Нанести среднеквадратичную ошибку для обоих методов на один график, сделать выводы о разнице скорости сходимости каждого из методов."
   ]
  },
  {
   "cell_type": "code",
   "execution_count": 1,
   "metadata": {},
   "outputs": [],
   "source": [
    "import numpy as np\n",
    "import pandas as pd\n",
    "import matplotlib.pyplot as plt\n",
    "import seaborn as sns"
   ]
  },
  {
   "cell_type": "code",
   "execution_count": 2,
   "metadata": {},
   "outputs": [],
   "source": [
    "from sklearn import datasets\n",
    "\n",
    "X, y, coef = datasets.make_regression(n_samples=1000, \n",
    "                                      n_features=2, \n",
    "                                      n_informative=2, \n",
    "                                      n_targets=1,\n",
    "                                      noise=5, \n",
    "                                      coef=True, \n",
    "                                      random_state=42)"
   ]
  },
  {
   "cell_type": "code",
   "execution_count": 3,
   "metadata": {},
   "outputs": [
    {
     "data": {
      "text/plain": [
       "array([40.89018785,  6.70032078])"
      ]
     },
     "execution_count": 3,
     "metadata": {},
     "output_type": "execute_result"
    }
   ],
   "source": [
    "np.linalg.inv(X.T @ X) @ X.T @ y"
   ]
  },
  {
   "cell_type": "code",
   "execution_count": 15,
   "metadata": {},
   "outputs": [],
   "source": [
    "def mse(X, w, y):\n",
    "    y_pred = X.dot(w)\n",
    "    sse = np.sum((y - y_pred)**2) \n",
    "    return sse / len(y)"
   ]
  },
  {
   "cell_type": "code",
   "execution_count": 16,
   "metadata": {},
   "outputs": [],
   "source": [
    "# Метод градиентного спуска\n",
    "def eval_GD(X, y, eta=1e-3, min_weight_dist=1e-5, max_iter=1e5, l1=0, l2=0, seed=42):\n",
    "    '''Реализация градиентного спуска\n",
    "    Параметры:\n",
    "        X (np.array) - массив признаков\n",
    "        y (np.array) - вектор ответов\n",
    "        eta (float) - скорость обучения\n",
    "        min_weight_dist (float) - критерий сходимости \n",
    "            (разница весов, при которой алгоритм останавливается) \n",
    "        max_iter (int) - максимальное количество итераций\n",
    "        l1 (float) - коэффициент L1 регуляризации\n",
    "        l2 (float) - коэффициент L2 регуляризации\n",
    "        seed (int) - начальное значение генератора случайных величин\n",
    "    Возвращаемые значения:\n",
    "        weights (np.array) - матрица весов на каждой итерации\n",
    "        errors (np.array) - вектор ошибок на каждой итерации\n",
    "    '''\n",
    "    np.random.seed(seed)\n",
    "    # инициализируем начальный вектор весов\n",
    "    w = np.zeros(X.shape[1])\n",
    "    # список векторов весов после каждой итерации\n",
    "    w_list = [w.copy()]\n",
    "    # список значений ошибок после каждой итерации\n",
    "    error_list = [mse(X, w, y)]\n",
    "    # зададим начальную разницу весов большим числом\n",
    "    weight_dist = np.inf\n",
    "    # счетчик итераций\n",
    "    iter_num = 1\n",
    "    # количество объектов\n",
    "    n = X.shape[0]\n",
    "    # ход градиентного спуска\n",
    "    while weight_dist > min_weight_dist and iter_num < max_iter:\n",
    "        # считаем градиент по всем объектам\n",
    "        grad = 2 * np.dot(X.T, (np.dot(X, w) - y)) / n + l1 * np.sign(w) + 2 * l2 * w\n",
    "        # корректируем значения весов\n",
    "        new_w = w - eta * grad\n",
    "        # считаем расстояние между векторами весов\n",
    "        weight_dist = np.linalg.norm(new_w - w, ord=2)\n",
    "        w_list.append(new_w.copy())\n",
    "        error_list.append(mse(X, new_w, y))\n",
    "        iter_num += 1\n",
    "        w = new_w\n",
    "    \n",
    "    weights = np.array(w_list)\n",
    "    errors = np.array(error_list)\n",
    "    print(f'В случае использования градиентного спуска функционал ошибки составляет {round(errors[-1], 4)}')\n",
    "    print(f'Количество итераций - {iter_num}')\n",
    "    print(f'Веса - {new_w}')\n",
    "    return weights, errors"
   ]
  },
  {
   "cell_type": "code",
   "execution_count": 19,
   "metadata": {},
   "outputs": [],
   "source": [
    "# SGD - стохастический градиентный спуск\n",
    "def eval_SGD(X, y, eta=1e-3, min_weight_dist=1e-5, max_iter=1e5, l1=0, l2=0, seed=42):\n",
    "    '''Реализация стохастического градиентного спуска\n",
    "    Параметры:\n",
    "        X (np.array) - массив признаков\n",
    "        y (np.array) - вектор ответов\n",
    "        eta (float) - скорость обучения\n",
    "        min_weight_dist (float) - критерий сходимости \n",
    "            (разница весов, при которой алгоритм останавливается) \n",
    "        max_iter (int) - максимальное количество итераций\n",
    "        l1 (float) - коэффициент L1 регуляризации\n",
    "        l2 (float) - коэффициент L2 регуляризации\n",
    "        seed (int) - начальное значение генератора случайных величин\n",
    "    Возвращаемые значения:\n",
    "        weights (np.array) - матрица весов на каждой итерации\n",
    "        errors (np.array) - вектор ошибок на каждой итерации\n",
    "    '''\n",
    "    np.random.seed(seed)\n",
    "    # инициализируем начальный вектор весов\n",
    "    w = np.zeros(X.shape[1])\n",
    "    # список векторов весов после каждой итерации\n",
    "    w_list = [w.copy()]\n",
    "    # список значений ошибок после каждой итерации\n",
    "    error_list = [mse(X, w, y)]\n",
    "    # зададим начальную разницу весов большим числом\n",
    "    weight_dist = np.inf\n",
    "    # счетчик итераций\n",
    "    iter_num = 1\n",
    "    # количество объектов\n",
    "    n = X.shape[0]\n",
    "    # ход стохастического градиентного спуска\n",
    "    while weight_dist > min_weight_dist and iter_num < max_iter:\n",
    "        # генерируем случайный индекс объекта выборки\n",
    "        ind = np.random.randint(n)\n",
    "        X_i = X[ind, :].reshape(1, X.shape[1])\n",
    "        y_i = [y[ind]]\n",
    "        # считаем для одного объекта градиент\n",
    "        grad = 2 * np.dot(X_i.T, (np.dot(X_i, w) - y_i)) + l1 * np.sign(w) + 2 * l2 * w\n",
    "        # корректируем значения весов\n",
    "        new_w = w - eta * grad\n",
    "        # считаем расстояние между векторами весов\n",
    "        weight_dist = np.linalg.norm(new_w - w, ord=2)\n",
    "        w_list.append(new_w.copy())\n",
    "        error_list.append(mse(X, new_w, y))\n",
    "        #error_list.append(mse(X_i, new_w, y_i))\n",
    "        iter_num += 1\n",
    "        w = new_w\n",
    "\n",
    "    weigts = np.array(w_list)\n",
    "    errors = np.array(error_list)\n",
    "    print(f'В случае использования стохастического градиентного спуска функционал ошибки составляет {round(errors[-1], 4)}')\n",
    "    print(f'Количество итераций - {iter_num}')\n",
    "    print(f'Веса - {new_w}')\n",
    "    return weigts, errors"
   ]
  },
  {
   "cell_type": "code",
   "execution_count": 18,
   "metadata": {},
   "outputs": [],
   "source": [
    "# mini-batch градиентный спуск\n",
    "def eval_mbGD(X, y, batch=None, eta=1e-3, min_weight_dist=1e-5, max_iter=1e5, l1=0, l2=0, seed=42):\n",
    "    '''Реализация mini-batch градиентного спуска\n",
    "    Параметры:\n",
    "        X (np.array) - массив признаков\n",
    "        y (np.array) - вектор ответов\n",
    "        batch (int) - количество объектов о одном батче\n",
    "        eta (float) - скорость обучения\n",
    "        min_weight_dist (float) - критерий сходимости \n",
    "            (разница весов, при которой алгоритм останавливается) \n",
    "        max_iter (int) - максимальное количество итераций\n",
    "        l1 (float) - коэффициент L1 регуляризации\n",
    "        l2 (float) - коэффициент L2 регуляризации\n",
    "        seed (int) - начальное значение генератора случайных величин\n",
    "    Возвращаемые значения:\n",
    "        weights (np.array) - матрица весов на каждой итерации\n",
    "        errors (np.array) - вектор ошибок на каждой итерации\n",
    "    '''\n",
    "    np.random.seed(seed)\n",
    "    # инициализируем начальный вектор весов\n",
    "    w = np.zeros(X.shape[1])\n",
    "    # список векторов весов после каждой итерации\n",
    "    w_list = [w.copy()]\n",
    "    # список значений ошибок после каждой итерации\n",
    "    error_list = [mse(X, w, y)]\n",
    "    # зададим начальную разницу весов большим числом\n",
    "    weight_dist = np.inf\n",
    "    # счетчик итераций (эпох)\n",
    "    iter_num = 1\n",
    "    # счетчик эпох\n",
    "    epoch_num = 1\n",
    "    # количество объектов\n",
    "    n = X.shape[0]\n",
    "    # если размер батча задан, то считаем количество батчей - n_batch,\n",
    "    # иначе реализуется градиентный спуск\n",
    "    if batch:\n",
    "        n_batch = n // batch\n",
    "        if n % batch != 0:\n",
    "            n_batch += 1\n",
    "    else:\n",
    "        n_batch = 1\n",
    "        batch = n\n",
    "    # ход mini-batch градиентного спуска\n",
    "    while weight_dist > min_weight_dist and iter_num < max_iter:\n",
    "        w_last = w.copy() # сохраняем значения весов\n",
    "        # перемешиваем X и y \n",
    "        xy = np.c_[X, y]\n",
    "        np.random.shuffle(xy)\n",
    "        X = xy[:, :-1]\n",
    "        y = xy[:, -1]\n",
    "        for b in range(n_batch):        \n",
    "            start_ = batch * b\n",
    "            end_ = batch * (b + 1)\n",
    "            X_b = X[start_ : end_, :]\n",
    "            y_b = y[start_ : end_]\n",
    "            # считаем градиент по всем объектам батча\n",
    "            grad = 2 * np.dot(X_b.T, (np.dot(X_b, w) - y_b)) / len(y_b) + l1 * np.sign(w) + 2 * l2 * w\n",
    "            # корректируем значения весов\n",
    "            w -= eta * grad\n",
    "            w_list.append(w.copy())\n",
    "            #error_list.append(mse(X, w, y))\n",
    "            iter_num += 1\n",
    "        # считаем расстояние между векторами весов\n",
    "        weight_dist = np.linalg.norm(w_last - w, ord=2)\n",
    "        #w_list.append(w.copy())\n",
    "        error_list.append(mse(X, w, y))\n",
    "        epoch_num += 1\n",
    "    \n",
    "    weights = np.array(w_list)\n",
    "    errors = np.array(error_list)\n",
    "    print(f'В случае использования mini-batch градиентного спуска функционал ошибки составляет {round(errors[-1], 4)}')\n",
    "    print(f'Количество итераций - {iter_num}')\n",
    "    print(f'Количество эпох - {epoch_num}')\n",
    "    print(f'Количество батчей - {n_batch}')\n",
    "    print(f'Веса - {w}')\n",
    "    return weights, errors"
   ]
  },
  {
   "cell_type": "code",
   "execution_count": 21,
   "metadata": {},
   "outputs": [
    {
     "name": "stdout",
     "output_type": "stream",
     "text": [
      "В случае использования градиентного спуска функционал ошибки составляет 24.2137\n",
      "Количество итераций - 87\n",
      "Веса - [40.88051808  6.70000471]\n",
      "CPU times: user 4.25 ms, sys: 4.06 ms, total: 8.31 ms\n",
      "Wall time: 7.57 ms\n"
     ]
    }
   ],
   "source": [
    "%%time\n",
    "\n",
    "w_gd, err_gd = eval_GD(X, y, eta=0.05, min_weight_dist=1e-3)"
   ]
  },
  {
   "cell_type": "code",
   "execution_count": 22,
   "metadata": {},
   "outputs": [
    {
     "name": "stdout",
     "output_type": "stream",
     "text": [
      "В случае использования стохастического градиентного спуска функционал ошибки составляет 24.3326\n",
      "Количество итераций - 204\n",
      "Веса - [40.56447102  6.55978172]\n",
      "CPU times: user 22.7 ms, sys: 136 µs, total: 22.8 ms\n",
      "Wall time: 21.7 ms\n"
     ]
    }
   ],
   "source": [
    "%%time\n",
    "\n",
    "w_sgd, err_sgd = eval_SGD(X, y, eta=0.05, min_weight_dist=1e-3)"
   ]
  },
  {
   "cell_type": "code",
   "execution_count": 23,
   "metadata": {},
   "outputs": [
    {
     "name": "stdout",
     "output_type": "stream",
     "text": [
      "В случае использования mini-batch градиентного спуска функционал ошибки составляет 24.2137\n",
      "Количество итераций - 93\n",
      "Количество эпох - 47\n",
      "Количество батчей - 2\n",
      "Веса - [40.88401082  6.7010275 ]\n",
      "CPU times: user 93.2 ms, sys: 0 ns, total: 93.2 ms\n",
      "Wall time: 92.3 ms\n"
     ]
    }
   ],
   "source": [
    "%%time\n",
    "\n",
    "w_mbgd, err_mbgd = eval_mbGD(X, y, batch=int(len(y) / 2), eta=0.05, min_weight_dist=1e-3)"
   ]
  },
  {
   "cell_type": "code",
   "execution_count": 25,
   "metadata": {},
   "outputs": [
    {
     "data": {
      "image/png": "[encoded data removed]",
      "text/plain": [
       "<Figure size 864x360 with 1 Axes>"
      ]
     },
     "metadata": {
      "needs_background": "light"
     },
     "output_type": "display_data"
    }
   ],
   "source": [
    "plt.figure(figsize=(12, 5))\n",
    "plt.title('Сравнение MSE')\n",
    "plt.ylabel('MSE')\n",
    "plt.xlabel('Итерации')\n",
    "\n",
    "n = 100\n",
    "plt.plot(range(len(err_gd)), err_gd, c='b', linewidth=3, label='GD')\n",
    "plt.plot(range(len(err_sgd))[:n], err_sgd[:n], linewidth=3, c='g', label='SGD')\n",
    "plt.plot(range(len(err_mbgd)), err_mbgd, c='c', linewidth=3, label='mbGD')\n",
    "plt.legend();"
   ]
  },
  {
   "cell_type": "markdown",
   "metadata": {},
   "source": [
    "Вывод: скорость сходимости в большей степени определяется правильным подбором шага обучения. С точки зрения количества итераций очевидно, что SGD сходится за большее количество итераций. Но он может обучаться, используя меньше ресурсов оперативной памяти.\n"
   ]
  }
 ],
 "metadata": {
  "kernelspec": {
   "display_name": "Python 3",
   "language": "python",
   "name": "python3"
  },
  "language_info": {
   "codemirror_mode": {
    "name": "ipython",
    "version": 3
   },
   "file_extension": ".py",
   "mimetype": "text/x-python",
   "name": "python",
   "nbconvert_exporter": "python",
   "pygments_lexer": "ipython3",
   "version": "3.8.5"
  }
 },
 "nbformat": 4,
 "nbformat_minor": 4
}
